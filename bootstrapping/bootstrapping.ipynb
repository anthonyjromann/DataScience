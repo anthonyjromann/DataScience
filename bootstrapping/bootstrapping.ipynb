{
  "nbformat": 4,
  "nbformat_minor": 0,
  "metadata": {
    "colab": {
      "provenance": [],
      "gpuType": "T4"
    },
    "kernelspec": {
      "name": "python3",
      "display_name": "Python 3"
    },
    "language_info": {
      "name": "python"
    },
    "accelerator": "GPU",
    "gpuClass": "standard"
  },
  "cells": [
    {
      "cell_type": "code",
      "execution_count": 2,
      "metadata": {
        "id": "1Rd6Cl6vl3FE"
      },
      "outputs": [],
      "source": [
        "#Import necessary libaries\n",
        "import pandas as pd\n",
        "import numpy as np\n",
        "import matplotlib.pyplot as plt\n",
        "import random"
      ]
    },
    {
      "cell_type": "code",
      "source": [
        "#Import and prepare dataset\n",
        "with open('sequence.txt', 'r') as file:\n",
        "  text = file.read()\n",
        "\n",
        "df = pd.DataFrame(list(text), columns=['nucleotide'])\n",
        "df['nucleotide'] = df['nucleotide'].apply(lambda x: x if x == 'a' or x == 't' or x == 'g' or x == 'c' else None)\n",
        "df = df.dropna()\n",
        "df.head"
      ],
      "metadata": {
        "id": "RxoS3c2Fmaod",
        "colab": {
          "base_uri": "https://localhost:8080/"
        },
        "outputId": "6e3815c1-d089-42f0-bc6b-f748385197e4"
      },
      "execution_count": 12,
      "outputs": [
        {
          "output_type": "execute_result",
          "data": {
            "text/plain": [
              "<bound method NDFrame.head of        nucleotide\n",
              "10              a\n",
              "11              a\n",
              "12              c\n",
              "13              c\n",
              "14              t\n",
              "...           ...\n",
              "226740          a\n",
              "226741          g\n",
              "226742          c\n",
              "226743          t\n",
              "226744          t\n",
              "\n",
              "[179005 rows x 1 columns]>"
            ]
          },
          "metadata": {},
          "execution_count": 12
        }
      ]
    },
    {
      "cell_type": "code",
      "source": [],
      "metadata": {
        "id": "qBTBHYDQty6a"
      },
      "execution_count": null,
      "outputs": []
    }
  ]
}